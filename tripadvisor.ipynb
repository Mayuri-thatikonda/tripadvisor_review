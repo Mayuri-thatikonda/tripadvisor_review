{
  "nbformat": 4,
  "nbformat_minor": 0,
  "metadata": {
    "colab": {
      "name": "tripadvisor.ipynb",
      "provenance": [],
      "authorship_tag": "ABX9TyPHl3Q+LBtnbj6Eh6y/PriX",
      "include_colab_link": true
    },
    "kernelspec": {
      "name": "python3",
      "display_name": "Python 3"
    },
    "language_info": {
      "name": "python"
    }
  },
  "cells": [
    {
      "cell_type": "markdown",
      "metadata": {
        "id": "view-in-github",
        "colab_type": "text"
      },
      "source": [
        "<a href=\"https://colab.research.google.com/github/Mayuri-thatikonda/tripadvisor_review/blob/main/tripadvisor.ipynb\" target=\"_parent\"><img src=\"https://colab.research.google.com/assets/colab-badge.svg\" alt=\"Open In Colab\"/></a>"
      ]
    },
    {
      "cell_type": "code",
      "metadata": {
        "id": "KyOUkIbGb9tG"
      },
      "source": [
        "import numpy as np\n",
        "import pandas as pd\n",
        "import matplotlib.pyplot as plt\n"
      ],
      "execution_count": 1,
      "outputs": []
    },
    {
      "cell_type": "code",
      "metadata": {
        "colab": {
          "base_uri": "https://localhost:8080/",
          "height": 310
        },
        "id": "A6pasEiIcjG3",
        "outputId": "cf8ba1d5-5006-49e1-bdb0-ece7462e822c"
      },
      "source": [
        "data = pd.read_csv('tripadvisor_review.csv') \n",
        "data.tail()"
      ],
      "execution_count": 2,
      "outputs": [
        {
          "output_type": "execute_result",
          "data": {
            "text/html": [
              "<div>\n",
              "<style scoped>\n",
              "    .dataframe tbody tr th:only-of-type {\n",
              "        vertical-align: middle;\n",
              "    }\n",
              "\n",
              "    .dataframe tbody tr th {\n",
              "        vertical-align: top;\n",
              "    }\n",
              "\n",
              "    .dataframe thead th {\n",
              "        text-align: right;\n",
              "    }\n",
              "</style>\n",
              "<table border=\"1\" class=\"dataframe\">\n",
              "  <thead>\n",
              "    <tr style=\"text-align: right;\">\n",
              "      <th></th>\n",
              "      <th>User ID</th>\n",
              "      <th>Category 1</th>\n",
              "      <th>Category 2</th>\n",
              "      <th>Category 3</th>\n",
              "      <th>Category 4</th>\n",
              "      <th>Category 5</th>\n",
              "      <th>Category 6</th>\n",
              "      <th>Category 7</th>\n",
              "      <th>Category 8</th>\n",
              "      <th>Category 9</th>\n",
              "      <th>Category 10</th>\n",
              "    </tr>\n",
              "  </thead>\n",
              "  <tbody>\n",
              "    <tr>\n",
              "      <th>975</th>\n",
              "      <td>User 976</td>\n",
              "      <td>0.74</td>\n",
              "      <td>1.12</td>\n",
              "      <td>0.30</td>\n",
              "      <td>0.53</td>\n",
              "      <td>0.88</td>\n",
              "      <td>1.38</td>\n",
              "      <td>3.17</td>\n",
              "      <td>2.78</td>\n",
              "      <td>0.99</td>\n",
              "      <td>3.20</td>\n",
              "    </tr>\n",
              "    <tr>\n",
              "      <th>976</th>\n",
              "      <td>User 977</td>\n",
              "      <td>1.25</td>\n",
              "      <td>0.92</td>\n",
              "      <td>1.12</td>\n",
              "      <td>0.38</td>\n",
              "      <td>0.78</td>\n",
              "      <td>1.68</td>\n",
              "      <td>3.18</td>\n",
              "      <td>2.79</td>\n",
              "      <td>1.34</td>\n",
              "      <td>2.80</td>\n",
              "    </tr>\n",
              "    <tr>\n",
              "      <th>977</th>\n",
              "      <td>User 978</td>\n",
              "      <td>0.61</td>\n",
              "      <td>1.32</td>\n",
              "      <td>0.67</td>\n",
              "      <td>0.43</td>\n",
              "      <td>1.30</td>\n",
              "      <td>1.78</td>\n",
              "      <td>3.17</td>\n",
              "      <td>2.81</td>\n",
              "      <td>1.34</td>\n",
              "      <td>3.02</td>\n",
              "    </tr>\n",
              "    <tr>\n",
              "      <th>978</th>\n",
              "      <td>User 979</td>\n",
              "      <td>0.93</td>\n",
              "      <td>0.20</td>\n",
              "      <td>0.13</td>\n",
              "      <td>0.43</td>\n",
              "      <td>0.30</td>\n",
              "      <td>0.40</td>\n",
              "      <td>3.18</td>\n",
              "      <td>2.98</td>\n",
              "      <td>1.12</td>\n",
              "      <td>2.46</td>\n",
              "    </tr>\n",
              "    <tr>\n",
              "      <th>979</th>\n",
              "      <td>User 980</td>\n",
              "      <td>0.93</td>\n",
              "      <td>0.56</td>\n",
              "      <td>1.13</td>\n",
              "      <td>0.51</td>\n",
              "      <td>1.34</td>\n",
              "      <td>2.36</td>\n",
              "      <td>3.18</td>\n",
              "      <td>2.87</td>\n",
              "      <td>1.34</td>\n",
              "      <td>2.40</td>\n",
              "    </tr>\n",
              "  </tbody>\n",
              "</table>\n",
              "</div>"
            ],
            "text/plain": [
              "      User ID  Category 1  Category 2  ...  Category 8  Category 9  Category 10\n",
              "975  User 976        0.74        1.12  ...        2.78        0.99         3.20\n",
              "976  User 977        1.25        0.92  ...        2.79        1.34         2.80\n",
              "977  User 978        0.61        1.32  ...        2.81        1.34         3.02\n",
              "978  User 979        0.93        0.20  ...        2.98        1.12         2.46\n",
              "979  User 980        0.93        0.56  ...        2.87        1.34         2.40\n",
              "\n",
              "[5 rows x 11 columns]"
            ]
          },
          "metadata": {
            "tags": []
          },
          "execution_count": 2
        }
      ]
    },
    {
      "cell_type": "code",
      "metadata": {
        "colab": {
          "base_uri": "https://localhost:8080/",
          "height": 310
        },
        "id": "5hjGcl_zczJH",
        "outputId": "242f2739-ef34-47c4-e953-0559c7f509f7"
      },
      "source": [
        "data.rename(columns={'Category 1': 'art galleries', 'Category 2': 'dance clubs','Category 3': ' juice bars','Category 4':'restaurants','Category 5': 'museums','Category 6':'resorts','Category 7':' parks/picnic spots','Category 8':'beaches','Category 9':'theaters','Category 10':'religious institutions'},inplace=True)\n",
        "data.head()"
      ],
      "execution_count": 3,
      "outputs": [
        {
          "output_type": "execute_result",
          "data": {
            "text/html": [
              "<div>\n",
              "<style scoped>\n",
              "    .dataframe tbody tr th:only-of-type {\n",
              "        vertical-align: middle;\n",
              "    }\n",
              "\n",
              "    .dataframe tbody tr th {\n",
              "        vertical-align: top;\n",
              "    }\n",
              "\n",
              "    .dataframe thead th {\n",
              "        text-align: right;\n",
              "    }\n",
              "</style>\n",
              "<table border=\"1\" class=\"dataframe\">\n",
              "  <thead>\n",
              "    <tr style=\"text-align: right;\">\n",
              "      <th></th>\n",
              "      <th>User ID</th>\n",
              "      <th>art galleries</th>\n",
              "      <th>dance clubs</th>\n",
              "      <th>juice bars</th>\n",
              "      <th>restaurants</th>\n",
              "      <th>museums</th>\n",
              "      <th>resorts</th>\n",
              "      <th>parks/picnic spots</th>\n",
              "      <th>beaches</th>\n",
              "      <th>theaters</th>\n",
              "      <th>religious institutions</th>\n",
              "    </tr>\n",
              "  </thead>\n",
              "  <tbody>\n",
              "    <tr>\n",
              "      <th>0</th>\n",
              "      <td>User 1</td>\n",
              "      <td>0.93</td>\n",
              "      <td>1.8</td>\n",
              "      <td>2.29</td>\n",
              "      <td>0.62</td>\n",
              "      <td>0.80</td>\n",
              "      <td>2.42</td>\n",
              "      <td>3.19</td>\n",
              "      <td>2.79</td>\n",
              "      <td>1.82</td>\n",
              "      <td>2.42</td>\n",
              "    </tr>\n",
              "    <tr>\n",
              "      <th>1</th>\n",
              "      <td>User 2</td>\n",
              "      <td>1.02</td>\n",
              "      <td>2.2</td>\n",
              "      <td>2.66</td>\n",
              "      <td>0.64</td>\n",
              "      <td>1.42</td>\n",
              "      <td>3.18</td>\n",
              "      <td>3.21</td>\n",
              "      <td>2.63</td>\n",
              "      <td>1.86</td>\n",
              "      <td>2.32</td>\n",
              "    </tr>\n",
              "    <tr>\n",
              "      <th>2</th>\n",
              "      <td>User 3</td>\n",
              "      <td>1.22</td>\n",
              "      <td>0.8</td>\n",
              "      <td>0.54</td>\n",
              "      <td>0.53</td>\n",
              "      <td>0.24</td>\n",
              "      <td>1.54</td>\n",
              "      <td>3.18</td>\n",
              "      <td>2.80</td>\n",
              "      <td>1.31</td>\n",
              "      <td>2.50</td>\n",
              "    </tr>\n",
              "    <tr>\n",
              "      <th>3</th>\n",
              "      <td>User 4</td>\n",
              "      <td>0.45</td>\n",
              "      <td>1.8</td>\n",
              "      <td>0.29</td>\n",
              "      <td>0.57</td>\n",
              "      <td>0.46</td>\n",
              "      <td>1.52</td>\n",
              "      <td>3.18</td>\n",
              "      <td>2.96</td>\n",
              "      <td>1.57</td>\n",
              "      <td>2.86</td>\n",
              "    </tr>\n",
              "    <tr>\n",
              "      <th>4</th>\n",
              "      <td>User 5</td>\n",
              "      <td>0.51</td>\n",
              "      <td>1.2</td>\n",
              "      <td>1.18</td>\n",
              "      <td>0.57</td>\n",
              "      <td>1.54</td>\n",
              "      <td>2.02</td>\n",
              "      <td>3.18</td>\n",
              "      <td>2.78</td>\n",
              "      <td>1.18</td>\n",
              "      <td>2.54</td>\n",
              "    </tr>\n",
              "  </tbody>\n",
              "</table>\n",
              "</div>"
            ],
            "text/plain": [
              "  User ID  art galleries  ...  theaters  religious institutions\n",
              "0  User 1           0.93  ...      1.82                    2.42\n",
              "1  User 2           1.02  ...      1.86                    2.32\n",
              "2  User 3           1.22  ...      1.31                    2.50\n",
              "3  User 4           0.45  ...      1.57                    2.86\n",
              "4  User 5           0.51  ...      1.18                    2.54\n",
              "\n",
              "[5 rows x 11 columns]"
            ]
          },
          "metadata": {
            "tags": []
          },
          "execution_count": 3
        }
      ]
    },
    {
      "cell_type": "code",
      "metadata": {
        "colab": {
          "base_uri": "https://localhost:8080/",
          "height": 223
        },
        "id": "Llsv2SIleCM7",
        "outputId": "57f50796-e568-4d9a-9644-aa1f5120571c"
      },
      "source": [
        "data.drop(['User ID'],axis=1,inplace=True)\n",
        "data.head()"
      ],
      "execution_count": 4,
      "outputs": [
        {
          "output_type": "execute_result",
          "data": {
            "text/html": [
              "<div>\n",
              "<style scoped>\n",
              "    .dataframe tbody tr th:only-of-type {\n",
              "        vertical-align: middle;\n",
              "    }\n",
              "\n",
              "    .dataframe tbody tr th {\n",
              "        vertical-align: top;\n",
              "    }\n",
              "\n",
              "    .dataframe thead th {\n",
              "        text-align: right;\n",
              "    }\n",
              "</style>\n",
              "<table border=\"1\" class=\"dataframe\">\n",
              "  <thead>\n",
              "    <tr style=\"text-align: right;\">\n",
              "      <th></th>\n",
              "      <th>art galleries</th>\n",
              "      <th>dance clubs</th>\n",
              "      <th>juice bars</th>\n",
              "      <th>restaurants</th>\n",
              "      <th>museums</th>\n",
              "      <th>resorts</th>\n",
              "      <th>parks/picnic spots</th>\n",
              "      <th>beaches</th>\n",
              "      <th>theaters</th>\n",
              "      <th>religious institutions</th>\n",
              "    </tr>\n",
              "  </thead>\n",
              "  <tbody>\n",
              "    <tr>\n",
              "      <th>0</th>\n",
              "      <td>0.93</td>\n",
              "      <td>1.8</td>\n",
              "      <td>2.29</td>\n",
              "      <td>0.62</td>\n",
              "      <td>0.80</td>\n",
              "      <td>2.42</td>\n",
              "      <td>3.19</td>\n",
              "      <td>2.79</td>\n",
              "      <td>1.82</td>\n",
              "      <td>2.42</td>\n",
              "    </tr>\n",
              "    <tr>\n",
              "      <th>1</th>\n",
              "      <td>1.02</td>\n",
              "      <td>2.2</td>\n",
              "      <td>2.66</td>\n",
              "      <td>0.64</td>\n",
              "      <td>1.42</td>\n",
              "      <td>3.18</td>\n",
              "      <td>3.21</td>\n",
              "      <td>2.63</td>\n",
              "      <td>1.86</td>\n",
              "      <td>2.32</td>\n",
              "    </tr>\n",
              "    <tr>\n",
              "      <th>2</th>\n",
              "      <td>1.22</td>\n",
              "      <td>0.8</td>\n",
              "      <td>0.54</td>\n",
              "      <td>0.53</td>\n",
              "      <td>0.24</td>\n",
              "      <td>1.54</td>\n",
              "      <td>3.18</td>\n",
              "      <td>2.80</td>\n",
              "      <td>1.31</td>\n",
              "      <td>2.50</td>\n",
              "    </tr>\n",
              "    <tr>\n",
              "      <th>3</th>\n",
              "      <td>0.45</td>\n",
              "      <td>1.8</td>\n",
              "      <td>0.29</td>\n",
              "      <td>0.57</td>\n",
              "      <td>0.46</td>\n",
              "      <td>1.52</td>\n",
              "      <td>3.18</td>\n",
              "      <td>2.96</td>\n",
              "      <td>1.57</td>\n",
              "      <td>2.86</td>\n",
              "    </tr>\n",
              "    <tr>\n",
              "      <th>4</th>\n",
              "      <td>0.51</td>\n",
              "      <td>1.2</td>\n",
              "      <td>1.18</td>\n",
              "      <td>0.57</td>\n",
              "      <td>1.54</td>\n",
              "      <td>2.02</td>\n",
              "      <td>3.18</td>\n",
              "      <td>2.78</td>\n",
              "      <td>1.18</td>\n",
              "      <td>2.54</td>\n",
              "    </tr>\n",
              "  </tbody>\n",
              "</table>\n",
              "</div>"
            ],
            "text/plain": [
              "   art galleries  dance clubs  ...  theaters  religious institutions\n",
              "0           0.93          1.8  ...      1.82                    2.42\n",
              "1           1.02          2.2  ...      1.86                    2.32\n",
              "2           1.22          0.8  ...      1.31                    2.50\n",
              "3           0.45          1.8  ...      1.57                    2.86\n",
              "4           0.51          1.2  ...      1.18                    2.54\n",
              "\n",
              "[5 rows x 10 columns]"
            ]
          },
          "metadata": {
            "tags": []
          },
          "execution_count": 4
        }
      ]
    },
    {
      "cell_type": "code",
      "metadata": {
        "colab": {
          "base_uri": "https://localhost:8080/"
        },
        "id": "Ajq4_hbgeO4N",
        "outputId": "306ffc43-1c1c-4c0b-f682-d647407aa7dc"
      },
      "source": [
        "data.isnull().sum()"
      ],
      "execution_count": 5,
      "outputs": [
        {
          "output_type": "execute_result",
          "data": {
            "text/plain": [
              "art galleries             0\n",
              "dance clubs               0\n",
              " juice bars               0\n",
              "restaurants               0\n",
              "museums                   0\n",
              "resorts                   0\n",
              " parks/picnic spots       0\n",
              "beaches                   0\n",
              "theaters                  0\n",
              "religious institutions    0\n",
              "dtype: int64"
            ]
          },
          "metadata": {
            "tags": []
          },
          "execution_count": 5
        }
      ]
    },
    {
      "cell_type": "code",
      "metadata": {
        "id": "XqD2ECL9eTjc"
      },
      "source": [
        "data['average'] = data.mean(axis=1)\n"
      ],
      "execution_count": 6,
      "outputs": []
    },
    {
      "cell_type": "code",
      "metadata": {
        "colab": {
          "base_uri": "https://localhost:8080/"
        },
        "id": "U2zNKVUHeef4",
        "outputId": "ce11dcce-0633-48bb-936e-2dc9ad2a41ca"
      },
      "source": [
        "data['average']"
      ],
      "execution_count": 7,
      "outputs": [
        {
          "output_type": "execute_result",
          "data": {
            "text/plain": [
              "0      1.908\n",
              "1      2.114\n",
              "2      1.466\n",
              "3      1.566\n",
              "4      1.670\n",
              "       ...  \n",
              "975    1.509\n",
              "976    1.624\n",
              "977    1.645\n",
              "978    1.213\n",
              "979    1.662\n",
              "Name: average, Length: 980, dtype: float64"
            ]
          },
          "metadata": {
            "tags": []
          },
          "execution_count": 7
        }
      ]
    },
    {
      "cell_type": "code",
      "metadata": {
        "colab": {
          "base_uri": "https://localhost:8080/"
        },
        "id": "ZOfIkFJaekuJ",
        "outputId": "531d21df-f1aa-4a8d-baab-c8480d59e89c"
      },
      "source": [
        "data['average'].max()\n"
      ],
      "execution_count": 8,
      "outputs": [
        {
          "output_type": "execute_result",
          "data": {
            "text/plain": [
              "2.225"
            ]
          },
          "metadata": {
            "tags": []
          },
          "execution_count": 8
        }
      ]
    },
    {
      "cell_type": "code",
      "metadata": {
        "colab": {
          "base_uri": "https://localhost:8080/"
        },
        "id": "GIpyrN3uexIi",
        "outputId": "3fac0fcb-5067-4ffa-93c3-c25542422367"
      },
      "source": [
        "data['average'].min()\n"
      ],
      "execution_count": 9,
      "outputs": [
        {
          "output_type": "execute_result",
          "data": {
            "text/plain": [
              "1.2130000000000003"
            ]
          },
          "metadata": {
            "tags": []
          },
          "execution_count": 9
        }
      ]
    },
    {
      "cell_type": "code",
      "metadata": {
        "colab": {
          "base_uri": "https://localhost:8080/",
          "height": 243
        },
        "id": "wr-w10Hoe2MI",
        "outputId": "3f2edbde-5070-48c6-b282-219d8b311a69"
      },
      "source": [
        "conditions = [\n",
        "    (data['average'] >= 1.1) & (data['average'] <= 1.7),\n",
        "    (data['average'] >= 1.7) ,\n",
        "    ]\n",
        "\n",
        "values = ['0', '1']\n",
        "\n",
        "data['review'] = np.select(conditions, values)\n",
        "\n",
        "data.tail()"
      ],
      "execution_count": 10,
      "outputs": [
        {
          "output_type": "execute_result",
          "data": {
            "text/html": [
              "<div>\n",
              "<style scoped>\n",
              "    .dataframe tbody tr th:only-of-type {\n",
              "        vertical-align: middle;\n",
              "    }\n",
              "\n",
              "    .dataframe tbody tr th {\n",
              "        vertical-align: top;\n",
              "    }\n",
              "\n",
              "    .dataframe thead th {\n",
              "        text-align: right;\n",
              "    }\n",
              "</style>\n",
              "<table border=\"1\" class=\"dataframe\">\n",
              "  <thead>\n",
              "    <tr style=\"text-align: right;\">\n",
              "      <th></th>\n",
              "      <th>art galleries</th>\n",
              "      <th>dance clubs</th>\n",
              "      <th>juice bars</th>\n",
              "      <th>restaurants</th>\n",
              "      <th>museums</th>\n",
              "      <th>resorts</th>\n",
              "      <th>parks/picnic spots</th>\n",
              "      <th>beaches</th>\n",
              "      <th>theaters</th>\n",
              "      <th>religious institutions</th>\n",
              "      <th>average</th>\n",
              "      <th>review</th>\n",
              "    </tr>\n",
              "  </thead>\n",
              "  <tbody>\n",
              "    <tr>\n",
              "      <th>975</th>\n",
              "      <td>0.74</td>\n",
              "      <td>1.12</td>\n",
              "      <td>0.30</td>\n",
              "      <td>0.53</td>\n",
              "      <td>0.88</td>\n",
              "      <td>1.38</td>\n",
              "      <td>3.17</td>\n",
              "      <td>2.78</td>\n",
              "      <td>0.99</td>\n",
              "      <td>3.20</td>\n",
              "      <td>1.509</td>\n",
              "      <td>0</td>\n",
              "    </tr>\n",
              "    <tr>\n",
              "      <th>976</th>\n",
              "      <td>1.25</td>\n",
              "      <td>0.92</td>\n",
              "      <td>1.12</td>\n",
              "      <td>0.38</td>\n",
              "      <td>0.78</td>\n",
              "      <td>1.68</td>\n",
              "      <td>3.18</td>\n",
              "      <td>2.79</td>\n",
              "      <td>1.34</td>\n",
              "      <td>2.80</td>\n",
              "      <td>1.624</td>\n",
              "      <td>0</td>\n",
              "    </tr>\n",
              "    <tr>\n",
              "      <th>977</th>\n",
              "      <td>0.61</td>\n",
              "      <td>1.32</td>\n",
              "      <td>0.67</td>\n",
              "      <td>0.43</td>\n",
              "      <td>1.30</td>\n",
              "      <td>1.78</td>\n",
              "      <td>3.17</td>\n",
              "      <td>2.81</td>\n",
              "      <td>1.34</td>\n",
              "      <td>3.02</td>\n",
              "      <td>1.645</td>\n",
              "      <td>0</td>\n",
              "    </tr>\n",
              "    <tr>\n",
              "      <th>978</th>\n",
              "      <td>0.93</td>\n",
              "      <td>0.20</td>\n",
              "      <td>0.13</td>\n",
              "      <td>0.43</td>\n",
              "      <td>0.30</td>\n",
              "      <td>0.40</td>\n",
              "      <td>3.18</td>\n",
              "      <td>2.98</td>\n",
              "      <td>1.12</td>\n",
              "      <td>2.46</td>\n",
              "      <td>1.213</td>\n",
              "      <td>0</td>\n",
              "    </tr>\n",
              "    <tr>\n",
              "      <th>979</th>\n",
              "      <td>0.93</td>\n",
              "      <td>0.56</td>\n",
              "      <td>1.13</td>\n",
              "      <td>0.51</td>\n",
              "      <td>1.34</td>\n",
              "      <td>2.36</td>\n",
              "      <td>3.18</td>\n",
              "      <td>2.87</td>\n",
              "      <td>1.34</td>\n",
              "      <td>2.40</td>\n",
              "      <td>1.662</td>\n",
              "      <td>0</td>\n",
              "    </tr>\n",
              "  </tbody>\n",
              "</table>\n",
              "</div>"
            ],
            "text/plain": [
              "     art galleries  dance clubs  ...  average  review\n",
              "975           0.74         1.12  ...    1.509       0\n",
              "976           1.25         0.92  ...    1.624       0\n",
              "977           0.61         1.32  ...    1.645       0\n",
              "978           0.93         0.20  ...    1.213       0\n",
              "979           0.93         0.56  ...    1.662       0\n",
              "\n",
              "[5 rows x 12 columns]"
            ]
          },
          "metadata": {
            "tags": []
          },
          "execution_count": 10
        }
      ]
    },
    {
      "cell_type": "code",
      "metadata": {
        "id": "ZpN7O9Gkfwho"
      },
      "source": [
        "X = data.iloc[:, :-1].values\n",
        "y = data.iloc[:, -1].values"
      ],
      "execution_count": 11,
      "outputs": []
    },
    {
      "cell_type": "code",
      "metadata": {
        "id": "ZL9SJQP-gq6y"
      },
      "source": [
        "from sklearn.model_selection import train_test_split\n",
        "X_train, X_test, y_train, y_test = train_test_split(X, y, test_size = 0.25, random_state = 0)"
      ],
      "execution_count": 12,
      "outputs": []
    },
    {
      "cell_type": "code",
      "metadata": {
        "id": "_mlM_VrIgrJ_"
      },
      "source": [
        "from sklearn.preprocessing import StandardScaler\n",
        "sc = StandardScaler()\n",
        "X_train = sc.fit_transform(X_train)\n",
        "X_test = sc.transform(X_test)"
      ],
      "execution_count": 13,
      "outputs": []
    },
    {
      "cell_type": "code",
      "metadata": {
        "id": "e0pFVAmciHQs",
        "colab": {
          "base_uri": "https://localhost:8080/"
        },
        "outputId": "941c29e7-8dcf-4539-dd00-11a34b34502a"
      },
      "source": [
        "from sklearn.svm import SVC\n",
        "classifier = SVC(kernel = 'rbf', random_state = 0)\n",
        "classifier.fit(X_train, y_train)"
      ],
      "execution_count": 14,
      "outputs": [
        {
          "output_type": "execute_result",
          "data": {
            "text/plain": [
              "SVC(C=1.0, break_ties=False, cache_size=200, class_weight=None, coef0=0.0,\n",
              "    decision_function_shape='ovr', degree=3, gamma='scale', kernel='rbf',\n",
              "    max_iter=-1, probability=False, random_state=0, shrinking=True, tol=0.001,\n",
              "    verbose=False)"
            ]
          },
          "metadata": {
            "tags": []
          },
          "execution_count": 14
        }
      ]
    },
    {
      "cell_type": "code",
      "metadata": {
        "colab": {
          "base_uri": "https://localhost:8080/"
        },
        "id": "kUsgBB4SI3bw",
        "outputId": "4f180d91-e3a0-4240-a9c3-1931adeb3013"
      },
      "source": [
        "y_pred = classifier.predict(X_test)\n",
        "print(np.concatenate((y_pred.reshape(len(y_pred),1), y_test.reshape(len(y_test),1)),1))"
      ],
      "execution_count": 15,
      "outputs": [
        {
          "output_type": "stream",
          "text": [
            "[['0' '0']\n",
            " ['1' '1']\n",
            " ['1' '1']\n",
            " ['0' '0']\n",
            " ['0' '0']\n",
            " ['0' '0']\n",
            " ['0' '0']\n",
            " ['0' '0']\n",
            " ['1' '1']\n",
            " ['1' '1']\n",
            " ['1' '1']\n",
            " ['0' '0']\n",
            " ['0' '0']\n",
            " ['0' '0']\n",
            " ['1' '1']\n",
            " ['0' '0']\n",
            " ['1' '1']\n",
            " ['1' '1']\n",
            " ['0' '0']\n",
            " ['0' '0']\n",
            " ['0' '0']\n",
            " ['0' '0']\n",
            " ['1' '1']\n",
            " ['1' '1']\n",
            " ['0' '0']\n",
            " ['0' '0']\n",
            " ['1' '1']\n",
            " ['1' '1']\n",
            " ['1' '1']\n",
            " ['1' '1']\n",
            " ['1' '1']\n",
            " ['1' '1']\n",
            " ['0' '0']\n",
            " ['1' '1']\n",
            " ['0' '0']\n",
            " ['0' '0']\n",
            " ['0' '0']\n",
            " ['1' '1']\n",
            " ['1' '1']\n",
            " ['0' '0']\n",
            " ['1' '1']\n",
            " ['0' '0']\n",
            " ['0' '0']\n",
            " ['0' '0']\n",
            " ['1' '1']\n",
            " ['1' '0']\n",
            " ['1' '1']\n",
            " ['1' '1']\n",
            " ['0' '0']\n",
            " ['0' '0']\n",
            " ['0' '0']\n",
            " ['0' '0']\n",
            " ['1' '1']\n",
            " ['1' '1']\n",
            " ['1' '1']\n",
            " ['0' '1']\n",
            " ['1' '1']\n",
            " ['1' '1']\n",
            " ['0' '0']\n",
            " ['1' '1']\n",
            " ['1' '1']\n",
            " ['0' '0']\n",
            " ['0' '0']\n",
            " ['1' '1']\n",
            " ['1' '1']\n",
            " ['1' '1']\n",
            " ['1' '1']\n",
            " ['0' '0']\n",
            " ['0' '0']\n",
            " ['0' '0']\n",
            " ['0' '0']\n",
            " ['1' '1']\n",
            " ['0' '0']\n",
            " ['0' '0']\n",
            " ['0' '0']\n",
            " ['0' '0']\n",
            " ['1' '1']\n",
            " ['0' '0']\n",
            " ['0' '0']\n",
            " ['1' '1']\n",
            " ['1' '1']\n",
            " ['1' '1']\n",
            " ['0' '0']\n",
            " ['1' '1']\n",
            " ['0' '0']\n",
            " ['0' '0']\n",
            " ['1' '1']\n",
            " ['0' '0']\n",
            " ['0' '0']\n",
            " ['0' '0']\n",
            " ['1' '1']\n",
            " ['1' '1']\n",
            " ['1' '1']\n",
            " ['1' '1']\n",
            " ['1' '1']\n",
            " ['0' '0']\n",
            " ['0' '0']\n",
            " ['0' '0']\n",
            " ['1' '1']\n",
            " ['0' '0']\n",
            " ['0' '1']\n",
            " ['0' '0']\n",
            " ['1' '1']\n",
            " ['0' '0']\n",
            " ['0' '0']\n",
            " ['1' '1']\n",
            " ['0' '0']\n",
            " ['1' '1']\n",
            " ['0' '0']\n",
            " ['0' '0']\n",
            " ['0' '0']\n",
            " ['1' '1']\n",
            " ['0' '0']\n",
            " ['1' '1']\n",
            " ['0' '0']\n",
            " ['1' '1']\n",
            " ['0' '0']\n",
            " ['1' '1']\n",
            " ['0' '0']\n",
            " ['1' '1']\n",
            " ['0' '0']\n",
            " ['0' '0']\n",
            " ['0' '1']\n",
            " ['1' '1']\n",
            " ['0' '0']\n",
            " ['0' '0']\n",
            " ['0' '0']\n",
            " ['0' '0']\n",
            " ['1' '1']\n",
            " ['0' '0']\n",
            " ['0' '0']\n",
            " ['0' '0']\n",
            " ['1' '1']\n",
            " ['1' '1']\n",
            " ['1' '1']\n",
            " ['1' '1']\n",
            " ['0' '0']\n",
            " ['0' '0']\n",
            " ['1' '1']\n",
            " ['0' '0']\n",
            " ['0' '0']\n",
            " ['0' '0']\n",
            " ['0' '0']\n",
            " ['0' '0']\n",
            " ['1' '1']\n",
            " ['0' '0']\n",
            " ['1' '0']\n",
            " ['1' '1']\n",
            " ['1' '1']\n",
            " ['1' '1']\n",
            " ['0' '0']\n",
            " ['1' '0']\n",
            " ['1' '1']\n",
            " ['0' '0']\n",
            " ['1' '1']\n",
            " ['0' '0']\n",
            " ['0' '0']\n",
            " ['0' '0']\n",
            " ['0' '0']\n",
            " ['1' '1']\n",
            " ['1' '1']\n",
            " ['0' '0']\n",
            " ['0' '0']\n",
            " ['1' '1']\n",
            " ['0' '0']\n",
            " ['0' '0']\n",
            " ['1' '0']\n",
            " ['0' '0']\n",
            " ['0' '0']\n",
            " ['1' '1']\n",
            " ['0' '0']\n",
            " ['1' '1']\n",
            " ['0' '0']\n",
            " ['1' '1']\n",
            " ['1' '1']\n",
            " ['0' '0']\n",
            " ['1' '1']\n",
            " ['0' '0']\n",
            " ['1' '1']\n",
            " ['1' '1']\n",
            " ['0' '0']\n",
            " ['0' '0']\n",
            " ['0' '0']\n",
            " ['1' '1']\n",
            " ['1' '1']\n",
            " ['1' '1']\n",
            " ['1' '0']\n",
            " ['1' '1']\n",
            " ['1' '1']\n",
            " ['0' '0']\n",
            " ['0' '0']\n",
            " ['0' '0']\n",
            " ['1' '1']\n",
            " ['0' '0']\n",
            " ['0' '0']\n",
            " ['1' '1']\n",
            " ['0' '0']\n",
            " ['0' '0']\n",
            " ['0' '0']\n",
            " ['1' '1']\n",
            " ['1' '1']\n",
            " ['0' '0']\n",
            " ['0' '0']\n",
            " ['1' '1']\n",
            " ['0' '0']\n",
            " ['1' '1']\n",
            " ['0' '0']\n",
            " ['1' '1']\n",
            " ['1' '1']\n",
            " ['1' '1']\n",
            " ['1' '1']\n",
            " ['0' '0']\n",
            " ['0' '0']\n",
            " ['0' '0']\n",
            " ['1' '1']\n",
            " ['1' '1']\n",
            " ['1' '1']\n",
            " ['0' '0']\n",
            " ['1' '1']\n",
            " ['0' '0']\n",
            " ['1' '1']\n",
            " ['1' '1']\n",
            " ['1' '1']\n",
            " ['0' '0']\n",
            " ['1' '1']\n",
            " ['0' '0']\n",
            " ['0' '0']\n",
            " ['0' '0']\n",
            " ['0' '0']\n",
            " ['1' '1']\n",
            " ['1' '1']\n",
            " ['0' '0']\n",
            " ['1' '1']\n",
            " ['0' '0']\n",
            " ['0' '0']\n",
            " ['1' '1']\n",
            " ['0' '0']\n",
            " ['1' '1']\n",
            " ['1' '1']\n",
            " ['0' '0']\n",
            " ['1' '1']\n",
            " ['1' '1']\n",
            " ['0' '0']\n",
            " ['0' '0']\n",
            " ['0' '0']]\n"
          ],
          "name": "stdout"
        }
      ]
    },
    {
      "cell_type": "code",
      "metadata": {
        "colab": {
          "base_uri": "https://localhost:8080/"
        },
        "id": "Wc-y2vq9IbyX",
        "outputId": "611506e5-8594-42cf-b312-58a5bc5fa33f"
      },
      "source": [
        "from sklearn.metrics import confusion_matrix, accuracy_score\n",
        "cm = confusion_matrix(y_test, y_pred)\n",
        "print(cm)\n",
        "accuracy_score(y_test, y_pred)"
      ],
      "execution_count": 16,
      "outputs": [
        {
          "output_type": "stream",
          "text": [
            "[[128   5]\n",
            " [  3 109]]\n"
          ],
          "name": "stdout"
        },
        {
          "output_type": "execute_result",
          "data": {
            "text/plain": [
              "0.9673469387755103"
            ]
          },
          "metadata": {
            "tags": []
          },
          "execution_count": 16
        }
      ]
    },
    {
      "cell_type": "code",
      "metadata": {
        "colab": {
          "base_uri": "https://localhost:8080/"
        },
        "id": "48LlD3tig5C8",
        "outputId": "71b0a6eb-5628-44ee-d0f9-0a6de3e14d30"
      },
      "source": [
        "from sklearn.linear_model import LogisticRegression\n",
        "classifier = LogisticRegression(random_state = 0)\n",
        "classifier.fit(X_train, y_train)"
      ],
      "execution_count": 17,
      "outputs": [
        {
          "output_type": "execute_result",
          "data": {
            "text/plain": [
              "LogisticRegression(C=1.0, class_weight=None, dual=False, fit_intercept=True,\n",
              "                   intercept_scaling=1, l1_ratio=None, max_iter=100,\n",
              "                   multi_class='auto', n_jobs=None, penalty='l2',\n",
              "                   random_state=0, solver='lbfgs', tol=0.0001, verbose=0,\n",
              "                   warm_start=False)"
            ]
          },
          "metadata": {
            "tags": []
          },
          "execution_count": 17
        }
      ]
    },
    {
      "cell_type": "code",
      "metadata": {
        "colab": {
          "base_uri": "https://localhost:8080/"
        },
        "id": "PPPlqRJyg5Vo",
        "outputId": "7f8b1904-dcd3-48d8-d9be-197ffa2fba0e"
      },
      "source": [
        "y_pred = classifier.predict(X_test)\n",
        "print(np.concatenate((y_pred.reshape(len(y_pred),1), y_test.reshape(len(y_test),1)),1))"
      ],
      "execution_count": 18,
      "outputs": [
        {
          "output_type": "stream",
          "text": [
            "[['0' '0']\n",
            " ['1' '1']\n",
            " ['1' '1']\n",
            " ['0' '0']\n",
            " ['0' '0']\n",
            " ['0' '0']\n",
            " ['0' '0']\n",
            " ['0' '0']\n",
            " ['1' '1']\n",
            " ['1' '1']\n",
            " ['1' '1']\n",
            " ['0' '0']\n",
            " ['0' '0']\n",
            " ['0' '0']\n",
            " ['1' '1']\n",
            " ['0' '0']\n",
            " ['1' '1']\n",
            " ['1' '1']\n",
            " ['0' '0']\n",
            " ['0' '0']\n",
            " ['0' '0']\n",
            " ['0' '0']\n",
            " ['1' '1']\n",
            " ['1' '1']\n",
            " ['0' '0']\n",
            " ['0' '0']\n",
            " ['1' '1']\n",
            " ['1' '1']\n",
            " ['1' '1']\n",
            " ['1' '1']\n",
            " ['1' '1']\n",
            " ['1' '1']\n",
            " ['0' '0']\n",
            " ['1' '1']\n",
            " ['0' '0']\n",
            " ['0' '0']\n",
            " ['0' '0']\n",
            " ['1' '1']\n",
            " ['1' '1']\n",
            " ['0' '0']\n",
            " ['1' '1']\n",
            " ['0' '0']\n",
            " ['0' '0']\n",
            " ['0' '0']\n",
            " ['1' '1']\n",
            " ['0' '0']\n",
            " ['1' '1']\n",
            " ['1' '1']\n",
            " ['0' '0']\n",
            " ['0' '0']\n",
            " ['0' '0']\n",
            " ['0' '0']\n",
            " ['1' '1']\n",
            " ['1' '1']\n",
            " ['1' '1']\n",
            " ['1' '1']\n",
            " ['1' '1']\n",
            " ['1' '1']\n",
            " ['0' '0']\n",
            " ['1' '1']\n",
            " ['1' '1']\n",
            " ['0' '0']\n",
            " ['0' '0']\n",
            " ['1' '1']\n",
            " ['1' '1']\n",
            " ['1' '1']\n",
            " ['1' '1']\n",
            " ['0' '0']\n",
            " ['0' '0']\n",
            " ['0' '0']\n",
            " ['0' '0']\n",
            " ['1' '1']\n",
            " ['0' '0']\n",
            " ['0' '0']\n",
            " ['0' '0']\n",
            " ['0' '0']\n",
            " ['1' '1']\n",
            " ['0' '0']\n",
            " ['0' '0']\n",
            " ['1' '1']\n",
            " ['1' '1']\n",
            " ['1' '1']\n",
            " ['0' '0']\n",
            " ['1' '1']\n",
            " ['0' '0']\n",
            " ['0' '0']\n",
            " ['1' '1']\n",
            " ['0' '0']\n",
            " ['0' '0']\n",
            " ['0' '0']\n",
            " ['1' '1']\n",
            " ['1' '1']\n",
            " ['1' '1']\n",
            " ['1' '1']\n",
            " ['1' '1']\n",
            " ['0' '0']\n",
            " ['0' '0']\n",
            " ['0' '0']\n",
            " ['1' '1']\n",
            " ['0' '0']\n",
            " ['1' '1']\n",
            " ['0' '0']\n",
            " ['1' '1']\n",
            " ['0' '0']\n",
            " ['0' '0']\n",
            " ['1' '1']\n",
            " ['0' '0']\n",
            " ['1' '1']\n",
            " ['0' '0']\n",
            " ['0' '0']\n",
            " ['0' '0']\n",
            " ['1' '1']\n",
            " ['0' '0']\n",
            " ['1' '1']\n",
            " ['1' '0']\n",
            " ['1' '1']\n",
            " ['0' '0']\n",
            " ['1' '1']\n",
            " ['0' '0']\n",
            " ['1' '1']\n",
            " ['0' '0']\n",
            " ['0' '0']\n",
            " ['1' '1']\n",
            " ['1' '1']\n",
            " ['0' '0']\n",
            " ['0' '0']\n",
            " ['0' '0']\n",
            " ['0' '0']\n",
            " ['1' '1']\n",
            " ['0' '0']\n",
            " ['0' '0']\n",
            " ['0' '0']\n",
            " ['1' '1']\n",
            " ['1' '1']\n",
            " ['1' '1']\n",
            " ['1' '1']\n",
            " ['0' '0']\n",
            " ['0' '0']\n",
            " ['1' '1']\n",
            " ['0' '0']\n",
            " ['0' '0']\n",
            " ['0' '0']\n",
            " ['0' '0']\n",
            " ['0' '0']\n",
            " ['1' '1']\n",
            " ['0' '0']\n",
            " ['1' '0']\n",
            " ['1' '1']\n",
            " ['1' '1']\n",
            " ['1' '1']\n",
            " ['0' '0']\n",
            " ['0' '0']\n",
            " ['1' '1']\n",
            " ['0' '0']\n",
            " ['1' '1']\n",
            " ['0' '0']\n",
            " ['0' '0']\n",
            " ['0' '0']\n",
            " ['0' '0']\n",
            " ['1' '1']\n",
            " ['1' '1']\n",
            " ['0' '0']\n",
            " ['0' '0']\n",
            " ['1' '1']\n",
            " ['0' '0']\n",
            " ['0' '0']\n",
            " ['0' '0']\n",
            " ['0' '0']\n",
            " ['0' '0']\n",
            " ['1' '1']\n",
            " ['0' '0']\n",
            " ['1' '1']\n",
            " ['0' '0']\n",
            " ['1' '1']\n",
            " ['1' '1']\n",
            " ['0' '0']\n",
            " ['1' '1']\n",
            " ['0' '0']\n",
            " ['1' '1']\n",
            " ['1' '1']\n",
            " ['0' '0']\n",
            " ['0' '0']\n",
            " ['0' '0']\n",
            " ['1' '1']\n",
            " ['1' '1']\n",
            " ['1' '1']\n",
            " ['1' '0']\n",
            " ['1' '1']\n",
            " ['1' '1']\n",
            " ['0' '0']\n",
            " ['0' '0']\n",
            " ['0' '0']\n",
            " ['1' '1']\n",
            " ['0' '0']\n",
            " ['0' '0']\n",
            " ['1' '1']\n",
            " ['0' '0']\n",
            " ['0' '0']\n",
            " ['0' '0']\n",
            " ['1' '1']\n",
            " ['1' '1']\n",
            " ['0' '0']\n",
            " ['0' '0']\n",
            " ['1' '1']\n",
            " ['0' '0']\n",
            " ['1' '1']\n",
            " ['0' '0']\n",
            " ['1' '1']\n",
            " ['1' '1']\n",
            " ['1' '1']\n",
            " ['1' '1']\n",
            " ['0' '0']\n",
            " ['0' '0']\n",
            " ['0' '0']\n",
            " ['1' '1']\n",
            " ['1' '1']\n",
            " ['1' '1']\n",
            " ['0' '0']\n",
            " ['1' '1']\n",
            " ['0' '0']\n",
            " ['1' '1']\n",
            " ['1' '1']\n",
            " ['1' '1']\n",
            " ['0' '0']\n",
            " ['1' '1']\n",
            " ['0' '0']\n",
            " ['0' '0']\n",
            " ['0' '0']\n",
            " ['0' '0']\n",
            " ['1' '1']\n",
            " ['1' '1']\n",
            " ['0' '0']\n",
            " ['1' '1']\n",
            " ['0' '0']\n",
            " ['0' '0']\n",
            " ['1' '1']\n",
            " ['0' '0']\n",
            " ['1' '1']\n",
            " ['1' '1']\n",
            " ['0' '0']\n",
            " ['1' '1']\n",
            " ['1' '1']\n",
            " ['0' '0']\n",
            " ['0' '0']\n",
            " ['0' '0']]\n"
          ],
          "name": "stdout"
        }
      ]
    },
    {
      "cell_type": "code",
      "metadata": {
        "colab": {
          "base_uri": "https://localhost:8080/"
        },
        "id": "_8CcW6Yg0swf",
        "outputId": "793801e6-9b27-4f83-e832-482873244ec1"
      },
      "source": [
        "from sklearn.metrics import confusion_matrix, accuracy_score\n",
        "cm = confusion_matrix(y_test, y_pred)\n",
        "print(cm)\n",
        "accuracy_score(y_test, y_pred)"
      ],
      "execution_count": 19,
      "outputs": [
        {
          "output_type": "stream",
          "text": [
            "[[130   3]\n",
            " [  0 112]]\n"
          ],
          "name": "stdout"
        },
        {
          "output_type": "execute_result",
          "data": {
            "text/plain": [
              "0.9877551020408163"
            ]
          },
          "metadata": {
            "tags": []
          },
          "execution_count": 19
        }
      ]
    }
  ]
}